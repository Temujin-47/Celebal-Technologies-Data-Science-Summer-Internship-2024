{
 "cells": [
  {
   "cell_type": "code",
   "execution_count": 1,
   "metadata": {},
   "outputs": [],
   "source": [
    "import numpy as np\n",
    "import pandas as pd\n",
    "import seaborn as sns\n",
    "from matplotlib import pyplot as plt\n",
    "# !pip install missingno\n",
    "import missingno as msno\n",
    "from datetime import date\n",
    "from sklearn.metrics import accuracy_score\n",
    "from sklearn.model_selection import train_test_split\n",
    "from sklearn.neighbors import LocalOutlierFactor\n",
    "from sklearn.preprocessing import MinMaxScaler, LabelEncoder, StandardScaler, RobustScaler"
   ]
  },
  {
   "cell_type": "code",
   "execution_count": 2,
   "metadata": {},
   "outputs": [
    {
     "name": "stdout",
     "output_type": "stream",
     "text": [
      "(307511, 122)\n",
      "(418, 12)\n"
     ]
    },
    {
     "data": {
      "image/png": "[encoded data removed]",
      "text/plain": [
       "<Figure size 640x480 with 1 Axes>"
      ]
     },
     "metadata": {},
     "output_type": "display_data"
    }
   ],
   "source": [
    "def load_application_train():\n",
    "    data = pd.read_csv(\"application_train.csv\")\n",
    "    return data\n",
    "\n",
    "\n",
    "\n",
    "\n",
    "#Shape of bigger dataset\n",
    "df = load_application_train()\n",
    "print(df.shape)        # (307511, 122)\n",
    "\n",
    "\n",
    "\n",
    "\n",
    "\n",
    "def load():\n",
    "    data = pd.read_csv(\"tested.csv\")\n",
    "    return data\n",
    "\n",
    "\n",
    "\n",
    "#Shape of smaller dataset\n",
    "df = load()\n",
    "print(df.shape)       # (891, 12)\n",
    "\n",
    "\n",
    "#We will try to detect outliers in a numerical 'Age' column by using \n",
    "#boxplot in 'titanic.csv'\n",
    "\n",
    "sns.boxplot(x=df[\"Age\"])\n",
    "plt.show()  "
   ]
  },
  {
   "cell_type": "code",
   "execution_count": 3,
   "metadata": {},
   "outputs": [
    {
     "name": "stdout",
     "output_type": "stream",
     "text": [
      "True\n"
     ]
    }
   ],
   "source": [
    "\n",
    "q1 = df[\"Age\"].quantile(0.25)\n",
    "q3 = df[\"Age\"].quantile(0.75)\n",
    "iqr = q3 - q1\n",
    "up = q3 + 1.5 * iqr\n",
    "low = q1 - 1.5 * iqr\n",
    "\n",
    "\n",
    "\n",
    "\n",
    "#Outliers\n",
    "#print(df[(df[\"Age\"] < low) | (df[\"Age\"] > up)])\n",
    "#index of outliers\n",
    "#print(df[(df[\"Age\"] < low) | (df[\"Age\"] > up)].index)\n",
    "#check for outliers  \n",
    "print(df[(df[\"Age\"] < low) | (df[\"Age\"] > up)].any(axis=None))"
   ]
  },
  {
   "cell_type": "code",
   "execution_count": 4,
   "metadata": {},
   "outputs": [
    {
     "name": "stdout",
     "output_type": "stream",
     "text": [
      "(-6.0, 66.0)\n"
     ]
    }
   ],
   "source": [
    "def outlier_thresholds(dataframe, col_name, q1=0.25, q3=0.75):\n",
    "    quartile1 = dataframe[col_name].quantile(q1)\n",
    "    quartile3 = dataframe[col_name].quantile(q3)\n",
    "    interquantile_range = quartile3 - quartile1\n",
    "    up_limit = quartile3 + 1.5 * interquantile_range\n",
    "    low_limit = quartile1 - 1.5 * interquantile_range\n",
    "    return low_limit, up_limit\n",
    "\n",
    "\n",
    "\n",
    "\n",
    "print(outlier_thresholds(df, \"Age\")) # (-6.0, 66.0)\n",
    "#As you can see, if age is below -6.0 or higher 66.0, we can say that\n",
    "#it is an outlier. But be careful, age cannot be lower than 0. So we don't\n",
    "#need to care lower threshold since it is -6.0\n",
    "\n",
    "\n",
    "\n",
    "\n",
    "\n"
   ]
  },
  {
   "cell_type": "code",
   "execution_count": 5,
   "metadata": {},
   "outputs": [
    {
     "name": "stdout",
     "output_type": "stream",
     "text": [
      "    PassengerId  Survived  Pclass  \\\n",
      "12          904         1       1   \n",
      "24          916         1       1   \n",
      "48          940         1       1   \n",
      "53          945         1       1   \n",
      "59          951         1       1   \n",
      "\n",
      "                                               Name     Sex   Age  SibSp  \\\n",
      "12    Snyder, Mrs. John Pillsbury (Nelle Stevenson)  female  23.0      1   \n",
      "24  Ryerson, Mrs. Arthur Larned (Emily Maria Borie)  female  48.0      1   \n",
      "48  Bucknell, Mrs. William Robert (Emma Eliza Ward)  female  60.0      0   \n",
      "53                       Fortune, Miss. Ethel Flora  female  28.0      3   \n",
      "59                      Chaudanson, Miss. Victorine  female  36.0      0   \n",
      "\n",
      "    Parch    Ticket      Fare            Cabin Embarked  \n",
      "12      0     21228   82.2667              B45        S  \n",
      "24      3  PC 17608  262.3750  B57 B59 B63 B66        C  \n",
      "48      0     11813   76.2917              D15        C  \n",
      "53      2     19950  263.0000      C23 C25 C27        S  \n",
      "59      0  PC 17608  262.3750              B61        C  \n"
     ]
    }
   ],
   "source": [
    "low, up = outlier_thresholds(df, \"Fare\")\n",
    "print(df[(df[\"Fare\"] < low) | (df[\"Fare\"] > up)].head())"
   ]
  },
  {
   "cell_type": "code",
   "execution_count": 6,
   "metadata": {},
   "outputs": [
    {
     "name": "stdout",
     "output_type": "stream",
     "text": [
      "True\n",
      "True\n"
     ]
    }
   ],
   "source": [
    "#Write a function that check if there is any outliers.\n",
    "def check_outlier(dataframe, col_name):\n",
    "    low_limit, up_limit = outlier_thresholds(dataframe, col_name)\n",
    "    if dataframe[(dataframe[col_name] > up_limit) | (dataframe[col_name] < low_limit)].any(axis=None):\n",
    "        return True\n",
    "    else:\n",
    "        return False\n",
    "\n",
    "print(check_outlier(df, \"Age\"))    # True  (yes, there is at least 1 outlier.)\n",
    "print(check_outlier(df, \"Fare\"))   # True  (yes, there is at least 1 outlier.)"
   ]
  },
  {
   "cell_type": "code",
   "execution_count": 7,
   "metadata": {},
   "outputs": [
    {
     "name": "stdout",
     "output_type": "stream",
     "text": [
      "Observations: 418\n",
      "Variables: 12\n",
      "cat_cols: 6\n",
      "num_cols: 3\n",
      "cat_but_car: 3\n",
      "num_but_cat: 4\n",
      "['Age', 'Fare']\n",
      "Age True\n",
      "Fare True\n"
     ]
    }
   ],
   "source": [
    "#We will try to grab categorical columns, categorical but cardinal columns and\n",
    "#numerical columns. \n",
    "\n",
    "def grab_col_names(dataframe, cat_th=10, car_th=20):\n",
    "    cat_cols = [col for col in dataframe.columns if dataframe[col].dtypes == \"O\"]\n",
    "    num_but_cat = [col for col in dataframe.columns if dataframe[col].nunique() < cat_th and dataframe[col].dtypes != \"O\"]\n",
    "    cat_but_car = [col for col in dataframe.columns if dataframe[col].nunique() > car_th and dataframe[col].dtypes == \"O\"]\n",
    "    cat_cols = cat_cols + num_but_cat\n",
    "    cat_cols = [col for col in cat_cols if col not in cat_but_car]\n",
    "    num_cols = [col for col in dataframe.columns if dataframe[col].dtypes != \"O\" and col not in num_but_cat]\n",
    "\n",
    "    print(f\"Observations: {dataframe.shape[0]}\")\n",
    "    print(f\"Variables: {dataframe.shape[1]}\")\n",
    "    print(f\"cat_cols: {len(cat_cols)}\")\n",
    "    print(f\"num_cols: {len(num_cols)}\")\n",
    "    print(f\"cat_but_car: {len(cat_but_car)}\")\n",
    "    print(f\"num_but_cat: {len(num_but_cat)}\")\n",
    "\n",
    "    return cat_cols, num_cols, cat_but_car\n",
    "\n",
    "\n",
    "\n",
    "\n",
    "cat_cols, num_cols, cat_but_car = grab_col_names(df)\n",
    "\n",
    "\n",
    "\n",
    "\n",
    "num_cols = [col for col in num_cols if col not in \"PassengerId\"]\n",
    "print(num_cols)  #  ['Age', 'Fare']\n",
    "\n",
    "\n",
    "\n",
    "#We will check outliers in numerical columns.\n",
    "for col in num_cols:\n",
    "    print(col, check_outlier(df, col))\n",
    "\n",
    "\n",
    "\n"
   ]
  },
  {
   "cell_type": "code",
   "execution_count": 8,
   "metadata": {},
   "outputs": [
    {
     "name": "stdout",
     "output_type": "stream",
     "text": [
      "Observations: 307511\n",
      "Variables: 122\n",
      "cat_cols: 54\n",
      "num_cols: 67\n",
      "cat_but_car: 1\n",
      "num_but_cat: 39\n",
      "\n",
      "\n",
      "CNT_CHILDREN True\n",
      "AMT_INCOME_TOTAL True\n",
      "AMT_CREDIT True\n",
      "AMT_ANNUITY True\n",
      "AMT_GOODS_PRICE True\n",
      "REGION_POPULATION_RELATIVE True\n",
      "DAYS_BIRTH False\n",
      "DAYS_EMPLOYED True\n",
      "DAYS_REGISTRATION True\n",
      "DAYS_ID_PUBLISH False\n",
      "OWN_CAR_AGE True\n",
      "CNT_FAM_MEMBERS True\n",
      "HOUR_APPR_PROCESS_START True\n",
      "EXT_SOURCE_1 False\n",
      "EXT_SOURCE_2 False\n",
      "EXT_SOURCE_3 False\n",
      "APARTMENTS_AVG True\n",
      "BASEMENTAREA_AVG True\n",
      "YEARS_BEGINEXPLUATATION_AVG True\n",
      "YEARS_BUILD_AVG True\n",
      "COMMONAREA_AVG True\n",
      "ELEVATORS_AVG True\n",
      "ENTRANCES_AVG True\n",
      "FLOORSMAX_AVG True\n",
      "FLOORSMIN_AVG True\n",
      "LANDAREA_AVG True\n",
      "LIVINGAPARTMENTS_AVG True\n",
      "LIVINGAREA_AVG True\n",
      "NONLIVINGAPARTMENTS_AVG True\n",
      "NONLIVINGAREA_AVG True\n",
      "APARTMENTS_MODE True\n",
      "BASEMENTAREA_MODE True\n",
      "YEARS_BEGINEXPLUATATION_MODE True\n",
      "YEARS_BUILD_MODE True\n",
      "COMMONAREA_MODE True\n",
      "ELEVATORS_MODE True\n",
      "ENTRANCES_MODE True\n",
      "FLOORSMAX_MODE True\n",
      "FLOORSMIN_MODE True\n",
      "LANDAREA_MODE True\n",
      "LIVINGAPARTMENTS_MODE True\n",
      "LIVINGAREA_MODE True\n",
      "NONLIVINGAPARTMENTS_MODE True\n",
      "NONLIVINGAREA_MODE True\n",
      "APARTMENTS_MEDI True\n",
      "BASEMENTAREA_MEDI True\n",
      "YEARS_BEGINEXPLUATATION_MEDI True\n",
      "YEARS_BUILD_MEDI True\n",
      "COMMONAREA_MEDI True\n",
      "ELEVATORS_MEDI True\n",
      "ENTRANCES_MEDI True\n",
      "FLOORSMAX_MEDI True\n",
      "FLOORSMIN_MEDI True\n",
      "LANDAREA_MEDI True\n",
      "LIVINGAPARTMENTS_MEDI True\n",
      "LIVINGAREA_MEDI True\n",
      "NONLIVINGAPARTMENTS_MEDI True\n",
      "NONLIVINGAREA_MEDI True\n",
      "TOTALAREA_MODE True\n",
      "OBS_30_CNT_SOCIAL_CIRCLE True\n",
      "DEF_30_CNT_SOCIAL_CIRCLE True\n",
      "OBS_60_CNT_SOCIAL_CIRCLE True\n",
      "DAYS_LAST_PHONE_CHANGE True\n",
      "AMT_REQ_CREDIT_BUREAU_MON True\n",
      "AMT_REQ_CREDIT_BUREAU_QRT True\n",
      "AMT_REQ_CREDIT_BUREAU_YEAR True\n"
     ]
    }
   ],
   "source": [
    "#Let's import application_train.csv\n",
    "dff = load_application_train()\n",
    "\n",
    "cat_cols, num_cols, cat_but_car = grab_col_names(dff)\n",
    "\n",
    "\n",
    "#Although 'SK_ID_CURR' is a numerical column, it is irrelevant for us. Therefore,\n",
    "#we will remove it from num_cols\n",
    "num_cols.remove('SK_ID_CURR')\n",
    "\n",
    "print()\n",
    "print()\n",
    "\n",
    "#Let's see which numerical columns have outliers.\n",
    "for col in num_cols:\n",
    "    print(col, check_outlier(dff, col))\n"
   ]
  },
  {
   "cell_type": "code",
   "execution_count": 9,
   "metadata": {},
   "outputs": [
    {
     "name": "stdout",
     "output_type": "stream",
     "text": [
      "    PassengerId  Survived  Pclass  \\\n",
      "81          973         0       1   \n",
      "96          988         1       1   \n",
      "\n",
      "                                                 Name     Sex   Age  SibSp  \\\n",
      "81                                 Straus, Mr. Isidor    male  67.0      1   \n",
      "96  Cavendish, Mrs. Tyrell William (Julia Florence...  female  76.0      1   \n",
      "\n",
      "    Parch    Ticket      Fare    Cabin Embarked  \n",
      "81      0  PC 17483  221.7792  C55 C57        S  \n",
      "96      0     19877   78.8500      C46        S  \n"
     ]
    }
   ],
   "source": [
    "#The function below will show us the outlier values for the associated column.\n",
    "#If there are outliers more than 10, it will only show us first 5 (f = 5) outliers.\n",
    "#Otherwise, it will show all outliers. \n",
    "\n",
    "def grab_outliers(dataframe, col_name, outlier_index=False, f = 5):\n",
    "    low, up = outlier_thresholds(dataframe, col_name)\n",
    "\n",
    "    if dataframe[((dataframe[col_name] < low) | (dataframe[col_name] > up))].shape[0] > 10:\n",
    "        print(dataframe[((dataframe[col_name] < low) | (dataframe[col_name] > up))].head(f))\n",
    "    else:\n",
    "        print(dataframe[((dataframe[col_name] < low) | (dataframe[col_name] > up))])\n",
    "\n",
    "    if outlier_index:\n",
    "        out_index = dataframe[((dataframe[col_name] < low) | (dataframe[col_name] > up))].index\n",
    "        return out_index\n",
    "\n",
    "\n",
    "\n",
    "\n",
    "\n",
    "age_index = grab_outliers(df, \"Age\", True)"
   ]
  },
  {
   "cell_type": "code",
   "execution_count": 10,
   "metadata": {},
   "outputs": [
    {
     "name": "stdout",
     "output_type": "stream",
     "text": [
      "(418, 12)\n"
     ]
    }
   ],
   "source": [
    "#Let's import titanic data.\n",
    "df = load()\n",
    "\n",
    "#Remove Outliers..\n",
    "\n",
    "low, up = outlier_thresholds(df, \"Fare\")\n",
    "#Shape of data with outliers\n",
    "print(df.shape) \n",
    "\n",
    "\n"
   ]
  },
  {
   "cell_type": "code",
   "execution_count": 11,
   "metadata": {},
   "outputs": [
    {
     "name": "stdout",
     "output_type": "stream",
     "text": [
      "(363, 12)\n"
     ]
    }
   ],
   "source": [
    "#Be careful! We used tilda (~) in order to see the shape of data without outliers!\n",
    "print(df[~((df[\"Fare\"] < low) | (df[\"Fare\"] > up))].shape)"
   ]
  },
  {
   "cell_type": "code",
   "execution_count": 12,
   "metadata": {},
   "outputs": [
    {
     "name": "stdout",
     "output_type": "stream",
     "text": [
      "Observations: 418\n",
      "Variables: 12\n",
      "cat_cols: 6\n",
      "num_cols: 3\n",
      "cat_but_car: 3\n",
      "num_but_cat: 4\n"
     ]
    }
   ],
   "source": [
    "#We can write a function for this!!!\n",
    "def remove_outlier(dataframe, col_name):\n",
    "    low_limit, up_limit = outlier_thresholds(dataframe, col_name)\n",
    "    df_without_outliers = dataframe[~((dataframe[col_name] < low_limit) | (dataframe[col_name] > up_limit))]\n",
    "    return df_without_outliers\n",
    "\n",
    "\n",
    "\n",
    "\n",
    "cat_cols, num_cols, cat_but_car = grab_col_names(df)"
   ]
  },
  {
   "cell_type": "code",
   "execution_count": 13,
   "metadata": {},
   "outputs": [
    {
     "name": "stdout",
     "output_type": "stream",
     "text": [
      "(363, 12)\n"
     ]
    }
   ],
   "source": [
    "num_cols.remove('PassengerId')\n",
    "\n",
    "for col in num_cols:\n",
    "    df = remove_outlier(df,col)\n",
    "\n",
    "\n",
    "\n",
    "\n",
    "#Now we removed 'Age' outliers and 'Fare' outliers.\n",
    "print(df.shape) "
   ]
  },
  {
   "cell_type": "code",
   "execution_count": 14,
   "metadata": {},
   "outputs": [],
   "source": [
    "#Re-assignment with thresholds..\n",
    "#Now we will assign outliers with thresholds. We can write a function for this\n",
    "def replace_with_thresholds(dataframe, variable):\n",
    "    low_limit, up_limit = outlier_thresholds(dataframe, variable)\n",
    "    dataframe.loc[(dataframe[variable] < low_limit), variable] = low_limit\n",
    "    dataframe.loc[(dataframe[variable] > up_limit), variable] = up_limit\n"
   ]
  },
  {
   "cell_type": "code",
   "execution_count": 15,
   "metadata": {},
   "outputs": [
    {
     "name": "stdout",
     "output_type": "stream",
     "text": [
      "Observations: 418\n",
      "Variables: 12\n",
      "cat_cols: 6\n",
      "num_cols: 3\n",
      "cat_but_car: 3\n",
      "num_but_cat: 4\n"
     ]
    }
   ],
   "source": [
    "#Import titanic data.\n",
    "df = load()\n",
    "cat_cols, num_cols, cat_but_car = grab_col_names(df)"
   ]
  },
  {
   "cell_type": "code",
   "execution_count": 16,
   "metadata": {},
   "outputs": [
    {
     "name": "stdout",
     "output_type": "stream",
     "text": [
      "Age True\n",
      "Fare True\n"
     ]
    }
   ],
   "source": [
    "num_cols.remove('PassengerId')\n",
    "#Let's see which column has outliers...\n",
    "for col in num_cols:\n",
    "    print(col, check_outlier(df, col))\n"
   ]
  },
  {
   "cell_type": "code",
   "execution_count": 17,
   "metadata": {},
   "outputs": [
    {
     "name": "stdout",
     "output_type": "stream",
     "text": [
      "Age False\n",
      "Fare False\n"
     ]
    }
   ],
   "source": [
    "\n",
    "#Now replace these outliers with thresholds.\n",
    "for col in num_cols:\n",
    "    replace_with_thresholds(df, col)\n",
    "\n",
    "\n",
    "\n",
    "#After replacing, we shouldn't have any outlier. So let's check again.\n",
    "for col in num_cols:\n",
    "    print(col, check_outlier(df, col))"
   ]
  },
  {
   "cell_type": "code",
   "execution_count": null,
   "metadata": {},
   "outputs": [],
   "source": []
  }
 ],
 "metadata": {
  "kernelspec": {
   "display_name": "base",
   "language": "python",
   "name": "python3"
  },
  "language_info": {
   "codemirror_mode": {
    "name": "ipython",
    "version": 3
   },
   "file_extension": ".py",
   "mimetype": "text/x-python",
   "name": "python",
   "nbconvert_exporter": "python",
   "pygments_lexer": "ipython3",
   "version": "3.9.12"
  }
 },
 "nbformat": 4,
 "nbformat_minor": 2
}
